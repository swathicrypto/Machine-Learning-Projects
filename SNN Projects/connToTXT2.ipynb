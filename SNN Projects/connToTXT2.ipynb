{
  "nbformat": 4,
  "nbformat_minor": 0,
  "metadata": {
    "colab": {
      "provenance": []
    },
    "kernelspec": {
      "name": "python3",
      "display_name": "Python 3"
    },
    "language_info": {
      "name": "python"
    }
  },
  "cells": [
    {
      "cell_type": "code",
      "source": [
        "!pip install torch"
      ],
      "metadata": {
        "colab": {
          "base_uri": "https://localhost:8080/"
        },
        "id": "KkQHswrKqm7g",
        "outputId": "cdc7ecf8-23ad-46fd-f84e-7a776c39d48f"
      },
      "execution_count": null,
      "outputs": [
        {
          "output_type": "stream",
          "name": "stdout",
          "text": [
            "Requirement already satisfied: torch in /usr/local/lib/python3.10/dist-packages (2.2.1+cu121)\n",
            "Requirement already satisfied: filelock in /usr/local/lib/python3.10/dist-packages (from torch) (3.13.3)\n",
            "Requirement already satisfied: typing-extensions>=4.8.0 in /usr/local/lib/python3.10/dist-packages (from torch) (4.10.0)\n",
            "Requirement already satisfied: sympy in /usr/local/lib/python3.10/dist-packages (from torch) (1.12)\n",
            "Requirement already satisfied: networkx in /usr/local/lib/python3.10/dist-packages (from torch) (3.2.1)\n",
            "Requirement already satisfied: jinja2 in /usr/local/lib/python3.10/dist-packages (from torch) (3.1.3)\n",
            "Requirement already satisfied: fsspec in /usr/local/lib/python3.10/dist-packages (from torch) (2023.6.0)\n",
            "Collecting nvidia-cuda-nvrtc-cu12==12.1.105 (from torch)\n",
            "  Downloading nvidia_cuda_nvrtc_cu12-12.1.105-py3-none-manylinux1_x86_64.whl (23.7 MB)\n",
            "\u001b[2K     \u001b[90m━━━━━━━━━━━━━━━━━━━━━━━━━━━━━━━━━━━━━━━━\u001b[0m \u001b[32m23.7/23.7 MB\u001b[0m \u001b[31m19.2 MB/s\u001b[0m eta \u001b[36m0:00:00\u001b[0m\n",
            "\u001b[?25hCollecting nvidia-cuda-runtime-cu12==12.1.105 (from torch)\n",
            "  Downloading nvidia_cuda_runtime_cu12-12.1.105-py3-none-manylinux1_x86_64.whl (823 kB)\n",
            "\u001b[2K     \u001b[90m━━━━━━━━━━━━━━━━━━━━━━━━━━━━━━━━━━━━━━━━\u001b[0m \u001b[32m823.6/823.6 kB\u001b[0m \u001b[31m14.5 MB/s\u001b[0m eta \u001b[36m0:00:00\u001b[0m\n",
            "\u001b[?25hCollecting nvidia-cuda-cupti-cu12==12.1.105 (from torch)\n",
            "  Downloading nvidia_cuda_cupti_cu12-12.1.105-py3-none-manylinux1_x86_64.whl (14.1 MB)\n",
            "\u001b[2K     \u001b[90m━━━━━━━━━━━━━━━━━━━━━━━━━━━━━━━━━━━━━━━━\u001b[0m \u001b[32m14.1/14.1 MB\u001b[0m \u001b[31m13.2 MB/s\u001b[0m eta \u001b[36m0:00:00\u001b[0m\n",
            "\u001b[?25hCollecting nvidia-cudnn-cu12==8.9.2.26 (from torch)\n",
            "  Downloading nvidia_cudnn_cu12-8.9.2.26-py3-none-manylinux1_x86_64.whl (731.7 MB)\n",
            "\u001b[2K     \u001b[90m━━━━━━━━━━━━━━━━━━━━━━━━━━━━━━━━━━━━━━━━\u001b[0m \u001b[32m731.7/731.7 MB\u001b[0m \u001b[31m1.9 MB/s\u001b[0m eta \u001b[36m0:00:00\u001b[0m\n",
            "\u001b[?25hCollecting nvidia-cublas-cu12==12.1.3.1 (from torch)\n",
            "  Downloading nvidia_cublas_cu12-12.1.3.1-py3-none-manylinux1_x86_64.whl (410.6 MB)\n",
            "\u001b[2K     \u001b[90m━━━━━━━━━━━━━━━━━━━━━━━━━━━━━━━━━━━━━━━━\u001b[0m \u001b[32m410.6/410.6 MB\u001b[0m \u001b[31m2.9 MB/s\u001b[0m eta \u001b[36m0:00:00\u001b[0m\n",
            "\u001b[?25hCollecting nvidia-cufft-cu12==11.0.2.54 (from torch)\n",
            "  Downloading nvidia_cufft_cu12-11.0.2.54-py3-none-manylinux1_x86_64.whl (121.6 MB)\n",
            "\u001b[2K     \u001b[90m━━━━━━━━━━━━━━━━━━━━━━━━━━━━━━━━━━━━━━━━\u001b[0m \u001b[32m121.6/121.6 MB\u001b[0m \u001b[31m6.7 MB/s\u001b[0m eta \u001b[36m0:00:00\u001b[0m\n",
            "\u001b[?25hCollecting nvidia-curand-cu12==10.3.2.106 (from torch)\n",
            "  Downloading nvidia_curand_cu12-10.3.2.106-py3-none-manylinux1_x86_64.whl (56.5 MB)\n",
            "\u001b[2K     \u001b[90m━━━━━━━━━━━━━━━━━━━━━━━━━━━━━━━━━━━━━━━━\u001b[0m \u001b[32m56.5/56.5 MB\u001b[0m \u001b[31m9.5 MB/s\u001b[0m eta \u001b[36m0:00:00\u001b[0m\n",
            "\u001b[?25hCollecting nvidia-cusolver-cu12==11.4.5.107 (from torch)\n",
            "  Downloading nvidia_cusolver_cu12-11.4.5.107-py3-none-manylinux1_x86_64.whl (124.2 MB)\n",
            "\u001b[2K     \u001b[90m━━━━━━━━━━━━━━━━━━━━━━━━━━━━━━━━━━━━━━━━\u001b[0m \u001b[32m124.2/124.2 MB\u001b[0m \u001b[31m7.3 MB/s\u001b[0m eta \u001b[36m0:00:00\u001b[0m\n",
            "\u001b[?25hCollecting nvidia-cusparse-cu12==12.1.0.106 (from torch)\n",
            "  Downloading nvidia_cusparse_cu12-12.1.0.106-py3-none-manylinux1_x86_64.whl (196.0 MB)\n",
            "\u001b[2K     \u001b[90m━━━━━━━━━━━━━━━━━━━━━━━━━━━━━━━━━━━━━━━━\u001b[0m \u001b[32m196.0/196.0 MB\u001b[0m \u001b[31m3.6 MB/s\u001b[0m eta \u001b[36m0:00:00\u001b[0m\n",
            "\u001b[?25hCollecting nvidia-nccl-cu12==2.19.3 (from torch)\n",
            "  Downloading nvidia_nccl_cu12-2.19.3-py3-none-manylinux1_x86_64.whl (166.0 MB)\n",
            "\u001b[2K     \u001b[90m━━━━━━━━━━━━━━━━━━━━━━━━━━━━━━━━━━━━━━━━\u001b[0m \u001b[32m166.0/166.0 MB\u001b[0m \u001b[31m2.5 MB/s\u001b[0m eta \u001b[36m0:00:00\u001b[0m\n",
            "\u001b[?25hCollecting nvidia-nvtx-cu12==12.1.105 (from torch)\n",
            "  Downloading nvidia_nvtx_cu12-12.1.105-py3-none-manylinux1_x86_64.whl (99 kB)\n",
            "\u001b[2K     \u001b[90m━━━━━━━━━━━━━━━━━━━━━━━━━━━━━━━━━━━━━━━━\u001b[0m \u001b[32m99.1/99.1 kB\u001b[0m \u001b[31m10.4 MB/s\u001b[0m eta \u001b[36m0:00:00\u001b[0m\n",
            "\u001b[?25hRequirement already satisfied: triton==2.2.0 in /usr/local/lib/python3.10/dist-packages (from torch) (2.2.0)\n",
            "Collecting nvidia-nvjitlink-cu12 (from nvidia-cusolver-cu12==11.4.5.107->torch)\n",
            "  Downloading nvidia_nvjitlink_cu12-12.4.99-py3-none-manylinux2014_x86_64.whl (21.1 MB)\n",
            "\u001b[2K     \u001b[90m━━━━━━━━━━━━━━━━━━━━━━━━━━━━━━━━━━━━━━━━\u001b[0m \u001b[32m21.1/21.1 MB\u001b[0m \u001b[31m53.0 MB/s\u001b[0m eta \u001b[36m0:00:00\u001b[0m\n",
            "\u001b[?25hRequirement already satisfied: MarkupSafe>=2.0 in /usr/local/lib/python3.10/dist-packages (from jinja2->torch) (2.1.5)\n",
            "Requirement already satisfied: mpmath>=0.19 in /usr/local/lib/python3.10/dist-packages (from sympy->torch) (1.3.0)\n",
            "Installing collected packages: nvidia-nvtx-cu12, nvidia-nvjitlink-cu12, nvidia-nccl-cu12, nvidia-curand-cu12, nvidia-cufft-cu12, nvidia-cuda-runtime-cu12, nvidia-cuda-nvrtc-cu12, nvidia-cuda-cupti-cu12, nvidia-cublas-cu12, nvidia-cusparse-cu12, nvidia-cudnn-cu12, nvidia-cusolver-cu12\n",
            "Successfully installed nvidia-cublas-cu12-12.1.3.1 nvidia-cuda-cupti-cu12-12.1.105 nvidia-cuda-nvrtc-cu12-12.1.105 nvidia-cuda-runtime-cu12-12.1.105 nvidia-cudnn-cu12-8.9.2.26 nvidia-cufft-cu12-11.0.2.54 nvidia-curand-cu12-10.3.2.106 nvidia-cusolver-cu12-11.4.5.107 nvidia-cusparse-cu12-12.1.0.106 nvidia-nccl-cu12-2.19.3 nvidia-nvjitlink-cu12-12.4.99 nvidia-nvtx-cu12-12.1.105\n"
          ]
        }
      ]
    },
    {
      "cell_type": "code",
      "execution_count": null,
      "metadata": {
        "colab": {
          "base_uri": "https://localhost:8080/"
        },
        "id": "VX1ZiptZYl0S",
        "outputId": "eb25ba83-8519-4452-b28f-0cbc16759233"
      },
      "outputs": [
        {
          "output_type": "stream",
          "name": "stdout",
          "text": [
            "Mounted at /content/drive\n"
          ]
        }
      ],
      "source": [
        "from google.colab import drive\n",
        "drive.mount('/content/drive')"
      ]
    },
    {
      "cell_type": "code",
      "source": [
        "!ls \"/content/drive/My Drive\""
      ],
      "metadata": {
        "colab": {
          "base_uri": "https://localhost:8080/"
        },
        "id": "EEJ8Y9XCuuh5",
        "outputId": "baf5e718-baf1-4fa0-ecf1-596736626915"
      },
      "execution_count": null,
      "outputs": [
        {
          "output_type": "stream",
          "name": "stdout",
          "text": [
            "'1 Research 5_3_23.ipynb'\n",
            " arXivDataset\n",
            "'arXiv Project'\n",
            "'BATTLE OF THE BANDS ORIGINAL SONG 1.MOV'\n",
            "'BATTLE OF THE BANDS ORIGINAL SONG 2.MOV'\n",
            "'Colab Notebooks'\n",
            "'Essay Drafts'\n",
            "'Fwd_ Regd_ Weights and model of MNIST for different sparsity ranging from 10% to 50% (2).zip'\n",
            "'ML Lab 1'\n",
            "'ML Lab 2'\n",
            "'ML Lab 3'\n",
            "'mnist_784_256_256_10_with_10%_Sparsity[1].dict'\n",
            "'mnist_784_256_256_10_with_10%_Sparsity[1].mdl'\n",
            "'mnist_784_256_256_10_with_20%_Sparsity[1].dict'\n",
            "'mnist_784_256_256_10_with_30%_Sparsity[1].dict'\n",
            "'mnist_784_256_256_10_with_40%_Sparsity[1].dict'\n",
            "'mnist_784_256_256_10_with_50%_Sparsity[1].dict'\n",
            "'Physics Project'\n",
            "'Physics Scripts'\n",
            " Pics\n",
            " simon1.drawio\n",
            " snn-tuts\n",
            " SNN_with_pruning.ipynb\n",
            " something.drawio\n",
            " tut1\n"
          ]
        }
      ]
    },
    {
      "cell_type": "code",
      "source": [
        "import torch\n",
        "w = torch.load('/content/drive/My Drive/mnist_784_256_256_10_with_50%_Sparsity[1].dict', map_location=torch.device('cpu'))"
      ],
      "metadata": {
        "id": "nJPRJBEoqTS3"
      },
      "execution_count": null,
      "outputs": []
    },
    {
      "cell_type": "code",
      "source": [
        "print(w)"
      ],
      "metadata": {
        "colab": {
          "base_uri": "https://localhost:8080/"
        },
        "id": "mV2naESix0kH",
        "outputId": "15178a25-1cfa-4fd5-8bef-e20380fd4ce2"
      },
      "execution_count": null,
      "outputs": [
        {
          "output_type": "stream",
          "name": "stdout",
          "text": [
            "OrderedDict([('layers.0.weight', tensor([[-0.0000,  0.0000,  0.0000,  ..., -0.0180, -0.0000,  0.0000],\n",
            "        [ 0.0000, -0.0271,  0.0205,  ...,  0.0357,  0.0000, -0.0316],\n",
            "        [-0.0268,  0.0333, -0.0255,  ..., -0.0346,  0.0000, -0.0188],\n",
            "        ...,\n",
            "        [-0.0000,  0.0294,  0.0000,  ...,  0.0000,  0.0000, -0.0329],\n",
            "        [-0.0000, -0.0348,  0.0000,  ..., -0.0000,  0.0000, -0.0000],\n",
            "        [-0.0192, -0.0000, -0.0337,  ...,  0.0321, -0.0325, -0.0000]])), ('layers.1.threshold', tensor(1.)), ('layers.1.graded_spikes_factor', tensor(1.)), ('layers.1.reset_mechanism_val', tensor(0)), ('layers.1.beta', tensor(0.9500)), ('layers.2.weight', tensor([[ 0.0511, -0.0000, -0.0281,  ..., -0.0722, -0.0000, -0.0000],\n",
            "        [ 0.0208,  0.0000,  0.0000,  ...,  0.0630,  0.0000,  0.0000],\n",
            "        [ 0.0000, -0.0093,  0.0000,  ...,  0.0470, -0.0000, -0.0689],\n",
            "        ...,\n",
            "        [-0.0000, -0.0467, -0.0000,  ...,  0.0000,  0.0996, -0.1170],\n",
            "        [ 0.0000,  0.1530,  0.0593,  ..., -0.0000,  0.0000,  0.2166],\n",
            "        [-0.0000,  0.0000,  0.0932,  ..., -0.0000, -0.0000,  0.0067]])), ('layers.3.threshold', tensor(1.)), ('layers.3.graded_spikes_factor', tensor(1.)), ('layers.3.reset_mechanism_val', tensor(0)), ('layers.3.beta', tensor(0.9500)), ('layers.4.weight', tensor([[-0.0942, -0.0000, -0.0995,  ..., -0.0000, -0.0612, -0.0000],\n",
            "        [-0.0000, -0.0000, -0.2037,  ..., -0.0000,  0.1703,  0.0489],\n",
            "        [ 0.0000,  0.0897,  0.0000,  ...,  0.0908,  0.0000, -0.2028],\n",
            "        ...,\n",
            "        [ 0.0000,  0.0000,  0.0000,  ...,  0.0000,  0.1213,  0.0000],\n",
            "        [ 0.0799, -0.0881, -0.0000,  ...,  0.0598, -0.0492, -0.0882],\n",
            "        [ 0.0528, -0.0522,  0.0000,  ..., -0.0928, -0.1253,  0.0000]])), ('layers.5.threshold', tensor(1.)), ('layers.5.graded_spikes_factor', tensor(1.)), ('layers.5.reset_mechanism_val', tensor(0)), ('layers.5.beta', tensor(0.9500))])\n"
          ]
        }
      ]
    },
    {
      "cell_type": "code",
      "source": [
        "w.keys()"
      ],
      "metadata": {
        "colab": {
          "base_uri": "https://localhost:8080/"
        },
        "id": "Mg-SKlleGKsK",
        "outputId": "e0ccd6a4-b843-4229-c68b-502978d569fd"
      },
      "execution_count": null,
      "outputs": [
        {
          "output_type": "execute_result",
          "data": {
            "text/plain": [
              "odict_keys(['layers.0.weight', 'layers.1.threshold', 'layers.1.graded_spikes_factor', 'layers.1.reset_mechanism_val', 'layers.1.beta', 'layers.2.weight', 'layers.3.threshold', 'layers.3.graded_spikes_factor', 'layers.3.reset_mechanism_val', 'layers.3.beta', 'layers.4.weight', 'layers.5.threshold', 'layers.5.graded_spikes_factor', 'layers.5.reset_mechanism_val', 'layers.5.beta'])"
            ]
          },
          "metadata": {},
          "execution_count": 80
        }
      ]
    },
    {
      "cell_type": "code",
      "source": [
        "print(w['layers.0.weight'])"
      ],
      "metadata": {
        "colab": {
          "base_uri": "https://localhost:8080/"
        },
        "id": "GlkOokJNG4MM",
        "outputId": "2d95f6e7-4199-418d-8648-4bfb205eb609"
      },
      "execution_count": null,
      "outputs": [
        {
          "output_type": "stream",
          "name": "stdout",
          "text": [
            "tensor([[-0.0000,  0.0000,  0.0000,  ..., -0.0180, -0.0000,  0.0000],\n",
            "        [ 0.0000, -0.0271,  0.0205,  ...,  0.0357,  0.0000, -0.0316],\n",
            "        [-0.0268,  0.0333, -0.0255,  ..., -0.0346,  0.0000, -0.0188],\n",
            "        ...,\n",
            "        [-0.0000,  0.0294,  0.0000,  ...,  0.0000,  0.0000, -0.0329],\n",
            "        [-0.0000, -0.0348,  0.0000,  ..., -0.0000,  0.0000, -0.0000],\n",
            "        [-0.0192, -0.0000, -0.0337,  ...,  0.0321, -0.0325, -0.0000]])\n"
          ]
        }
      ]
    },
    {
      "cell_type": "code",
      "source": [
        "print(w['layers.0.weight'].shape)"
      ],
      "metadata": {
        "colab": {
          "base_uri": "https://localhost:8080/"
        },
        "id": "iEyJoBIUjQik",
        "outputId": "625e75f8-4eb7-4c76-8de8-db6b195867cb"
      },
      "execution_count": null,
      "outputs": [
        {
          "output_type": "stream",
          "name": "stdout",
          "text": [
            "torch.Size([256, 784])\n"
          ]
        }
      ]
    },
    {
      "cell_type": "code",
      "source": [
        "print(w['layers.0.weight'].shape[1])"
      ],
      "metadata": {
        "colab": {
          "base_uri": "https://localhost:8080/"
        },
        "id": "FVwx79wxlwob",
        "outputId": "0cb33029-9b10-410b-b6dc-62d249dae94e"
      },
      "execution_count": null,
      "outputs": [
        {
          "output_type": "stream",
          "name": "stdout",
          "text": [
            "784\n"
          ]
        }
      ]
    },
    {
      "cell_type": "code",
      "source": [
        "print(w['layers.0.weight'].shape[0])"
      ],
      "metadata": {
        "colab": {
          "base_uri": "https://localhost:8080/"
        },
        "id": "H92GAwe7nFdX",
        "outputId": "2b8d243c-db99-4be4-e6a6-ab5af45b7090"
      },
      "execution_count": null,
      "outputs": [
        {
          "output_type": "stream",
          "name": "stdout",
          "text": [
            "256\n"
          ]
        }
      ]
    },
    {
      "cell_type": "code",
      "source": [
        "print(w['layers.4.weight'].shape[0])"
      ],
      "metadata": {
        "colab": {
          "base_uri": "https://localhost:8080/"
        },
        "id": "50mFc_i8nH7c",
        "outputId": "a7f9609f-66fc-4f83-a64e-a9c279c3a0e7"
      },
      "execution_count": null,
      "outputs": [
        {
          "output_type": "stream",
          "name": "stdout",
          "text": [
            "10\n"
          ]
        }
      ]
    },
    {
      "cell_type": "code",
      "source": [
        "print(w['layers.4.weight'].shape)"
      ],
      "metadata": {
        "colab": {
          "base_uri": "https://localhost:8080/"
        },
        "id": "E8muG_xzjoVt",
        "outputId": "50b8125b-4307-4073-fb0d-7fecba2bc0af"
      },
      "execution_count": null,
      "outputs": [
        {
          "output_type": "stream",
          "name": "stdout",
          "text": [
            "torch.Size([10, 256])\n"
          ]
        }
      ]
    },
    {
      "cell_type": "code",
      "source": [
        "connectivity_dict1 =[]\n",
        "connectivity_dict1.append(\"Network Architecture Parameters:\"+str(w['layers.0.weight'].shape[1])+ \" \" + str(w['layers.0.weight'].shape[0])+\" \"+str(w['layers.4.weight'].shape[0]))\n",
        "\n",
        "for key in w.keys():\n",
        "    if key.endswith('.weight'):\n",
        "        # Extract the numeric part of the key (e.g., 'layers.0', 'layers.1', etc.)\n",
        "        layer_number = key.split('.')[1]\n",
        "\n",
        "        connectivity_dict1.append('Conn:' + ' ' + str(layer_number) + ' ' + str((int(layer_number)+1)))\n",
        "\n",
        "        for i in range (w[key].shape[0]):\n",
        "          for j in range(w[key].shape[1]):\n",
        "            weight_value = w[key][i][j]\n",
        "            if weight_value != 0:\n",
        "              connectivity_dict1.append([j, i, float(weight_value)])\n",
        "\n",
        "    if key.endswith('.threshold'):\n",
        "        connectivity_dict1.append(f'Threshold: {float(w[key]):.2f}')\n",
        "\n",
        "    if key.endswith('.reset_mechanism_val'):\n",
        "        connectivity_dict1.append(f'Reset: {float(w[key]):.2f}')\n",
        "\n",
        "    if key.endswith('.beta'):\n",
        "        connectivity_dict1.append(f'Beta: {float(w[key]):.2f}')"
      ],
      "metadata": {
        "id": "AOrZPa-ZQQMg"
      },
      "execution_count": null,
      "outputs": []
    },
    {
      "cell_type": "code",
      "source": [
        "for entry in connectivity_dict1[:5]:\n",
        "    print(entry)"
      ],
      "metadata": {
        "colab": {
          "base_uri": "https://localhost:8080/"
        },
        "id": "xvTWj9EHU5US",
        "outputId": "6197259a-5da8-4dfe-e5a3-486b56d79a36"
      },
      "execution_count": null,
      "outputs": [
        {
          "output_type": "stream",
          "name": "stdout",
          "text": [
            "Network Architecture Parameters:784 256 10\n",
            "Conn: 0 1\n",
            "[7, 0, -0.02091517671942711]\n",
            "[9, 0, -0.03246849775314331]\n",
            "[10, 0, 0.018051203340291977]\n"
          ]
        }
      ]
    },
    {
      "cell_type": "code",
      "source": [
        "with open('mnist_784_256_256_10_s50_dict.txt', 'w') as file:\n",
        "    file.write(str(connectivity_dict1))"
      ],
      "metadata": {
        "id": "rBC4XU4mU-vR"
      },
      "execution_count": null,
      "outputs": []
    }
  ]
}