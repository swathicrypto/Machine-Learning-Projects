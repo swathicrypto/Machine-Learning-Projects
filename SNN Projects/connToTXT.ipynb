{
  "nbformat": 4,
  "nbformat_minor": 0,
  "metadata": {
    "colab": {
      "provenance": []
    },
    "kernelspec": {
      "name": "python3",
      "display_name": "Python 3"
    },
    "language_info": {
      "name": "python"
    }
  },
  "cells": [
    {
      "cell_type": "code",
      "source": [
        "!pip install torch"
      ],
      "metadata": {
        "colab": {
          "base_uri": "https://localhost:8080/"
        },
        "id": "KkQHswrKqm7g",
        "outputId": "89807528-5dea-42b8-b2e8-b3078eefc586"
      },
      "execution_count": null,
      "outputs": [
        {
          "output_type": "stream",
          "name": "stdout",
          "text": [
            "Requirement already satisfied: torch in /usr/local/lib/python3.10/dist-packages (2.2.1+cu121)\n",
            "Requirement already satisfied: filelock in /usr/local/lib/python3.10/dist-packages (from torch) (3.13.3)\n",
            "Requirement already satisfied: typing-extensions>=4.8.0 in /usr/local/lib/python3.10/dist-packages (from torch) (4.10.0)\n",
            "Requirement already satisfied: sympy in /usr/local/lib/python3.10/dist-packages (from torch) (1.12)\n",
            "Requirement already satisfied: networkx in /usr/local/lib/python3.10/dist-packages (from torch) (3.2.1)\n",
            "Requirement already satisfied: jinja2 in /usr/local/lib/python3.10/dist-packages (from torch) (3.1.3)\n",
            "Requirement already satisfied: fsspec in /usr/local/lib/python3.10/dist-packages (from torch) (2023.6.0)\n",
            "Collecting nvidia-cuda-nvrtc-cu12==12.1.105 (from torch)\n",
            "  Downloading nvidia_cuda_nvrtc_cu12-12.1.105-py3-none-manylinux1_x86_64.whl (23.7 MB)\n",
            "\u001b[2K     \u001b[90m━━━━━━━━━━━━━━━━━━━━━━━━━━━━━━━━━━━━━━━━\u001b[0m \u001b[32m23.7/23.7 MB\u001b[0m \u001b[31m43.5 MB/s\u001b[0m eta \u001b[36m0:00:00\u001b[0m\n",
            "\u001b[?25hCollecting nvidia-cuda-runtime-cu12==12.1.105 (from torch)\n",
            "  Downloading nvidia_cuda_runtime_cu12-12.1.105-py3-none-manylinux1_x86_64.whl (823 kB)\n",
            "\u001b[2K     \u001b[90m━━━━━━━━━━━━━━━━━━━━━━━━━━━━━━━━━━━━━━━━\u001b[0m \u001b[32m823.6/823.6 kB\u001b[0m \u001b[31m46.5 MB/s\u001b[0m eta \u001b[36m0:00:00\u001b[0m\n",
            "\u001b[?25hCollecting nvidia-cuda-cupti-cu12==12.1.105 (from torch)\n",
            "  Downloading nvidia_cuda_cupti_cu12-12.1.105-py3-none-manylinux1_x86_64.whl (14.1 MB)\n",
            "\u001b[2K     \u001b[90m━━━━━━━━━━━━━━━━━━━━━━━━━━━━━━━━━━━━━━━━\u001b[0m \u001b[32m14.1/14.1 MB\u001b[0m \u001b[31m61.7 MB/s\u001b[0m eta \u001b[36m0:00:00\u001b[0m\n",
            "\u001b[?25hCollecting nvidia-cudnn-cu12==8.9.2.26 (from torch)\n",
            "  Downloading nvidia_cudnn_cu12-8.9.2.26-py3-none-manylinux1_x86_64.whl (731.7 MB)\n",
            "\u001b[2K     \u001b[90m━━━━━━━━━━━━━━━━━━━━━━━━━━━━━━━━━━━━━━━━\u001b[0m \u001b[32m731.7/731.7 MB\u001b[0m \u001b[31m2.0 MB/s\u001b[0m eta \u001b[36m0:00:00\u001b[0m\n",
            "\u001b[?25hCollecting nvidia-cublas-cu12==12.1.3.1 (from torch)\n",
            "  Downloading nvidia_cublas_cu12-12.1.3.1-py3-none-manylinux1_x86_64.whl (410.6 MB)\n",
            "\u001b[2K     \u001b[90m━━━━━━━━━━━━━━━━━━━━━━━━━━━━━━━━━━━━━━━━\u001b[0m \u001b[32m410.6/410.6 MB\u001b[0m \u001b[31m3.4 MB/s\u001b[0m eta \u001b[36m0:00:00\u001b[0m\n",
            "\u001b[?25hCollecting nvidia-cufft-cu12==11.0.2.54 (from torch)\n",
            "  Downloading nvidia_cufft_cu12-11.0.2.54-py3-none-manylinux1_x86_64.whl (121.6 MB)\n",
            "\u001b[2K     \u001b[90m━━━━━━━━━━━━━━━━━━━━━━━━━━━━━━━━━━━━━━━━\u001b[0m \u001b[32m121.6/121.6 MB\u001b[0m \u001b[31m8.3 MB/s\u001b[0m eta \u001b[36m0:00:00\u001b[0m\n",
            "\u001b[?25hCollecting nvidia-curand-cu12==10.3.2.106 (from torch)\n",
            "  Downloading nvidia_curand_cu12-10.3.2.106-py3-none-manylinux1_x86_64.whl (56.5 MB)\n",
            "\u001b[2K     \u001b[90m━━━━━━━━━━━━━━━━━━━━━━━━━━━━━━━━━━━━━━━━\u001b[0m \u001b[32m56.5/56.5 MB\u001b[0m \u001b[31m10.6 MB/s\u001b[0m eta \u001b[36m0:00:00\u001b[0m\n",
            "\u001b[?25hCollecting nvidia-cusolver-cu12==11.4.5.107 (from torch)\n",
            "  Downloading nvidia_cusolver_cu12-11.4.5.107-py3-none-manylinux1_x86_64.whl (124.2 MB)\n",
            "\u001b[2K     \u001b[90m━━━━━━━━━━━━━━━━━━━━━━━━━━━━━━━━━━━━━━━━\u001b[0m \u001b[32m124.2/124.2 MB\u001b[0m \u001b[31m7.4 MB/s\u001b[0m eta \u001b[36m0:00:00\u001b[0m\n",
            "\u001b[?25hCollecting nvidia-cusparse-cu12==12.1.0.106 (from torch)\n",
            "  Downloading nvidia_cusparse_cu12-12.1.0.106-py3-none-manylinux1_x86_64.whl (196.0 MB)\n",
            "\u001b[2K     \u001b[90m━━━━━━━━━━━━━━━━━━━━━━━━━━━━━━━━━━━━━━━━\u001b[0m \u001b[32m196.0/196.0 MB\u001b[0m \u001b[31m6.0 MB/s\u001b[0m eta \u001b[36m0:00:00\u001b[0m\n",
            "\u001b[?25hCollecting nvidia-nccl-cu12==2.19.3 (from torch)\n",
            "  Downloading nvidia_nccl_cu12-2.19.3-py3-none-manylinux1_x86_64.whl (166.0 MB)\n",
            "\u001b[2K     \u001b[90m━━━━━━━━━━━━━━━━━━━━━━━━━━━━━━━━━━━━━━━━\u001b[0m \u001b[32m166.0/166.0 MB\u001b[0m \u001b[31m5.2 MB/s\u001b[0m eta \u001b[36m0:00:00\u001b[0m\n",
            "\u001b[?25hCollecting nvidia-nvtx-cu12==12.1.105 (from torch)\n",
            "  Downloading nvidia_nvtx_cu12-12.1.105-py3-none-manylinux1_x86_64.whl (99 kB)\n",
            "\u001b[2K     \u001b[90m━━━━━━━━━━━━━━━━━━━━━━━━━━━━━━━━━━━━━━━━\u001b[0m \u001b[32m99.1/99.1 kB\u001b[0m \u001b[31m10.8 MB/s\u001b[0m eta \u001b[36m0:00:00\u001b[0m\n",
            "\u001b[?25hRequirement already satisfied: triton==2.2.0 in /usr/local/lib/python3.10/dist-packages (from torch) (2.2.0)\n",
            "Collecting nvidia-nvjitlink-cu12 (from nvidia-cusolver-cu12==11.4.5.107->torch)\n",
            "  Downloading nvidia_nvjitlink_cu12-12.4.99-py3-none-manylinux2014_x86_64.whl (21.1 MB)\n",
            "\u001b[2K     \u001b[90m━━━━━━━━━━━━━━━━━━━━━━━━━━━━━━━━━━━━━━━━\u001b[0m \u001b[32m21.1/21.1 MB\u001b[0m \u001b[31m40.7 MB/s\u001b[0m eta \u001b[36m0:00:00\u001b[0m\n",
            "\u001b[?25hRequirement already satisfied: MarkupSafe>=2.0 in /usr/local/lib/python3.10/dist-packages (from jinja2->torch) (2.1.5)\n",
            "Requirement already satisfied: mpmath>=0.19 in /usr/local/lib/python3.10/dist-packages (from sympy->torch) (1.3.0)\n",
            "Installing collected packages: nvidia-nvtx-cu12, nvidia-nvjitlink-cu12, nvidia-nccl-cu12, nvidia-curand-cu12, nvidia-cufft-cu12, nvidia-cuda-runtime-cu12, nvidia-cuda-nvrtc-cu12, nvidia-cuda-cupti-cu12, nvidia-cublas-cu12, nvidia-cusparse-cu12, nvidia-cudnn-cu12, nvidia-cusolver-cu12\n",
            "Successfully installed nvidia-cublas-cu12-12.1.3.1 nvidia-cuda-cupti-cu12-12.1.105 nvidia-cuda-nvrtc-cu12-12.1.105 nvidia-cuda-runtime-cu12-12.1.105 nvidia-cudnn-cu12-8.9.2.26 nvidia-cufft-cu12-11.0.2.54 nvidia-curand-cu12-10.3.2.106 nvidia-cusolver-cu12-11.4.5.107 nvidia-cusparse-cu12-12.1.0.106 nvidia-nccl-cu12-2.19.3 nvidia-nvjitlink-cu12-12.4.99 nvidia-nvtx-cu12-12.1.105\n"
          ]
        }
      ]
    },
    {
      "cell_type": "code",
      "execution_count": null,
      "metadata": {
        "colab": {
          "base_uri": "https://localhost:8080/"
        },
        "id": "VX1ZiptZYl0S",
        "outputId": "df2be0b9-0c02-4213-e5bc-329110486f78"
      },
      "outputs": [
        {
          "output_type": "stream",
          "name": "stdout",
          "text": [
            "Mounted at /content/drive\n"
          ]
        }
      ],
      "source": [
        "from google.colab import drive\n",
        "drive.mount('/content/drive')"
      ]
    },
    {
      "cell_type": "code",
      "source": [
        "!ls \"/content/drive/My Drive\""
      ],
      "metadata": {
        "colab": {
          "base_uri": "https://localhost:8080/"
        },
        "id": "EEJ8Y9XCuuh5",
        "outputId": "e5e19ae5-38c9-4ff6-8005-86ef39a0d62f"
      },
      "execution_count": null,
      "outputs": [
        {
          "output_type": "stream",
          "name": "stdout",
          "text": [
            "'1 Research 5_3_23.ipynb'\n",
            " arXivDataset\n",
            "'arXiv Project'\n",
            "'BATTLE OF THE BANDS ORIGINAL SONG 1.MOV'\n",
            "'BATTLE OF THE BANDS ORIGINAL SONG 2.MOV'\n",
            "'Colab Notebooks'\n",
            "'Essay Drafts'\n",
            "'Fwd_ Regd_ Weights and model of MNIST for different sparsity ranging from 10% to 50% (2).zip'\n",
            "'ML Lab 1'\n",
            "'ML Lab 2'\n",
            "'ML Lab 3'\n",
            "'mnist_784_256_256_10_with_10%_Sparsity[1].dict'\n",
            "'mnist_784_256_256_10_with_10%_Sparsity[1].mdl'\n",
            "'Physics Project'\n",
            "'Physics Scripts'\n",
            " Pics\n",
            " simon1.drawio\n",
            " snn-tuts\n",
            " SNN_with_pruning.ipynb\n",
            " something.drawio\n",
            " tut1\n"
          ]
        }
      ]
    },
    {
      "cell_type": "code",
      "source": [
        "import torch\n",
        "w = torch.load('/content/drive/My Drive/mnist_784_256_256_10_with_10%_Sparsity[1].dict', map_location=torch.device('cpu'))"
      ],
      "metadata": {
        "id": "nJPRJBEoqTS3"
      },
      "execution_count": null,
      "outputs": []
    },
    {
      "cell_type": "code",
      "source": [
        "print(w)"
      ],
      "metadata": {
        "colab": {
          "base_uri": "https://localhost:8080/"
        },
        "id": "mV2naESix0kH",
        "outputId": "0d5df472-72a5-4332-a16e-75b53e4c73bf"
      },
      "execution_count": null,
      "outputs": [
        {
          "output_type": "stream",
          "name": "stdout",
          "text": [
            "OrderedDict([('layers.0.weight', tensor([[-0.0130, -0.0243, -0.0148,  ...,  0.0353,  0.0320,  0.0216],\n",
            "        [ 0.0000,  0.0077,  0.0226,  ...,  0.0211, -0.0129, -0.0196],\n",
            "        [-0.0340, -0.0341,  0.0236,  ..., -0.0000, -0.0354, -0.0278],\n",
            "        ...,\n",
            "        [-0.0253, -0.0087, -0.0169,  ...,  0.0112, -0.0185,  0.0294],\n",
            "        [ 0.0087,  0.0321, -0.0101,  ...,  0.0000,  0.0259, -0.0248],\n",
            "        [ 0.0307, -0.0000, -0.0214,  ..., -0.0114, -0.0334,  0.0044]])), ('layers.1.threshold', tensor(1.)), ('layers.1.graded_spikes_factor', tensor(1.)), ('layers.1.reset_mechanism_val', tensor(0)), ('layers.1.beta', tensor(0.9500)), ('layers.2.weight', tensor([[ 0.0208, -0.1761, -0.0323,  ..., -0.0000,  0.0141,  0.0831],\n",
            "        [-0.0524, -0.0131, -0.0420,  ..., -0.0688,  0.0377,  0.0710],\n",
            "        [ 0.0133, -0.0235,  0.0080,  ...,  0.0000,  0.0000,  0.0567],\n",
            "        ...,\n",
            "        [-0.0155,  0.0183,  0.0000,  ...,  0.0000,  0.0319,  0.0007],\n",
            "        [ 0.0853, -0.0579, -0.0084,  ..., -0.0432, -0.0270,  0.0747],\n",
            "        [ 0.0707,  0.0652,  0.0242,  ...,  0.0902,  0.0147,  0.0389]])), ('layers.3.threshold', tensor(1.)), ('layers.3.graded_spikes_factor', tensor(1.)), ('layers.3.reset_mechanism_val', tensor(0)), ('layers.3.beta', tensor(0.9500)), ('layers.4.weight', tensor([[ 0.0000, -0.0458,  0.1149,  ...,  0.0002,  0.0446, -0.0568],\n",
            "        [-0.0270,  0.0403,  0.0352,  ...,  0.0132,  0.0704,  0.0622],\n",
            "        [-0.1230, -0.0000, -0.0661,  ...,  0.0770, -0.0615, -0.1150],\n",
            "        ...,\n",
            "        [ 0.0478, -0.0704, -0.0107,  ...,  0.0000,  0.0461, -0.0063],\n",
            "        [-0.0232,  0.0420, -0.0035,  ..., -0.0244, -0.0336,  0.0402],\n",
            "        [-0.0401, -0.0818,  0.0308,  ...,  0.0271, -0.0131,  0.0663]])), ('layers.5.threshold', tensor(1.)), ('layers.5.graded_spikes_factor', tensor(1.)), ('layers.5.reset_mechanism_val', tensor(0)), ('layers.5.beta', tensor(0.9500))])\n"
          ]
        }
      ]
    },
    {
      "cell_type": "code",
      "source": [
        "w.keys()"
      ],
      "metadata": {
        "colab": {
          "base_uri": "https://localhost:8080/"
        },
        "id": "Mg-SKlleGKsK",
        "outputId": "5af70e7d-7219-4005-f1c0-ce06d78615d7"
      },
      "execution_count": null,
      "outputs": [
        {
          "output_type": "execute_result",
          "data": {
            "text/plain": [
              "odict_keys(['layers.0.weight', 'layers.1.threshold', 'layers.1.graded_spikes_factor', 'layers.1.reset_mechanism_val', 'layers.1.beta', 'layers.2.weight', 'layers.3.threshold', 'layers.3.graded_spikes_factor', 'layers.3.reset_mechanism_val', 'layers.3.beta', 'layers.4.weight', 'layers.5.threshold', 'layers.5.graded_spikes_factor', 'layers.5.reset_mechanism_val', 'layers.5.beta'])"
            ]
          },
          "metadata": {},
          "execution_count": 8
        }
      ]
    },
    {
      "cell_type": "code",
      "source": [
        "print(w['layers.0.weight'])"
      ],
      "metadata": {
        "colab": {
          "base_uri": "https://localhost:8080/"
        },
        "id": "GlkOokJNG4MM",
        "outputId": "85a134e6-d1ac-421e-f3a7-598becbb5e92"
      },
      "execution_count": null,
      "outputs": [
        {
          "output_type": "stream",
          "name": "stdout",
          "text": [
            "tensor([[-0.0130, -0.0243, -0.0148,  ...,  0.0353,  0.0320,  0.0216],\n",
            "        [ 0.0000,  0.0077,  0.0226,  ...,  0.0211, -0.0129, -0.0196],\n",
            "        [-0.0340, -0.0341,  0.0236,  ..., -0.0000, -0.0354, -0.0278],\n",
            "        ...,\n",
            "        [-0.0253, -0.0087, -0.0169,  ...,  0.0112, -0.0185,  0.0294],\n",
            "        [ 0.0087,  0.0321, -0.0101,  ...,  0.0000,  0.0259, -0.0248],\n",
            "        [ 0.0307, -0.0000, -0.0214,  ..., -0.0114, -0.0334,  0.0044]])\n"
          ]
        }
      ]
    },
    {
      "cell_type": "code",
      "source": [
        "connectivity_dict =[]\n",
        "\n",
        "connectivity_dict.append('Conn: 0 1')\n",
        "\n",
        "for i in range(w['layers.0.weight'].shape[0]):\n",
        "    # Loop through the columns\n",
        "    for j in range(w['layers.0.weight'].shape[1]):\n",
        "        weight_value = w['layers.0.weight'][i][j]\n",
        "        if weight_value != 0:\n",
        "            connectivity_dict.append([i, j, float(weight_value)])\n",
        "\n",
        "connectivity_dict.append('Threshold:' + str(float(w['layers.1.threshold'])))\n",
        "connectivity_dict.append('Reset:' + str(float(w['layers.1.reset_mechanism_val'])))\n",
        "connectivity_dict.append('Beta:' + str(float(w['layers.1.beta'])))"
      ],
      "metadata": {
        "id": "C1CQrvyVGUva"
      },
      "execution_count": null,
      "outputs": []
    },
    {
      "cell_type": "code",
      "source": [
        "for entry in connectivity_dict[-5:]:\n",
        "    print(entry)"
      ],
      "metadata": {
        "colab": {
          "base_uri": "https://localhost:8080/"
        },
        "id": "ra415smfKhvS",
        "outputId": "5f656121-d82d-40a2-93f4-4cf0b2328ef3"
      },
      "execution_count": null,
      "outputs": [
        {
          "output_type": "stream",
          "name": "stdout",
          "text": [
            "[255, 782, -0.033392395824193954]\n",
            "[255, 783, 0.004407619126141071]\n",
            "Threshold:1.0\n",
            "Reset:0.0\n",
            "Beta:0.949999988079071\n"
          ]
        }
      ]
    },
    {
      "cell_type": "code",
      "source": [
        "print(len(connectivity_dict))"
      ],
      "metadata": {
        "colab": {
          "base_uri": "https://localhost:8080/"
        },
        "id": "daMjDcSsUOJ3",
        "outputId": "45474f62-369c-4757-ce07-ee16a073679b"
      },
      "execution_count": null,
      "outputs": [
        {
          "output_type": "stream",
          "name": "stdout",
          "text": [
            "180638\n"
          ]
        }
      ]
    },
    {
      "cell_type": "code",
      "source": [
        "connectivity_dict1 =[]\n",
        "\n",
        "for key in w.keys():\n",
        "    if key.endswith('.weight'):\n",
        "        # Extract the numeric part of the key (e.g., 'layers.0', 'layers.1', etc.)\n",
        "        layer_number = key.split('.')[1]\n",
        "\n",
        "        connectivity_dict1.append('Conn:' + ' ' + str(layer_number) + ' ' + str((int(layer_number)+1)))\n",
        "\n",
        "        for i in range (w[key].shape[0]):\n",
        "          for j in range(w[key].shape[1]):\n",
        "            weight_value = w[key][i][j]\n",
        "            if weight_value != 0:\n",
        "              connectivity_dict1.append([j, i, float(weight_value)])\n",
        "\n",
        "    if key.endswith('.threshold'):\n",
        "        connectivity_dict1.append(f'Threshold: {float(w[key]):.2f}')\n",
        "\n",
        "    if key.endswith('.reset_mechanism_val'):\n",
        "        connectivity_dict1.append(f'Reset: {float(w[key]):.2f}')\n",
        "\n",
        "    if key.endswith('.beta'):\n",
        "        connectivity_dict1.append(f'Beta: {float(w[key]):.2f}')"
      ],
      "metadata": {
        "id": "AOrZPa-ZQQMg"
      },
      "execution_count": null,
      "outputs": []
    },
    {
      "cell_type": "code",
      "source": [
        "for entry in connectivity_dict1[:5]:\n",
        "    print(entry)"
      ],
      "metadata": {
        "colab": {
          "base_uri": "https://localhost:8080/"
        },
        "id": "xvTWj9EHU5US",
        "outputId": "3129bb6f-c4f8-4fb2-968b-8852e6f3fe85"
      },
      "execution_count": null,
      "outputs": [
        {
          "output_type": "stream",
          "name": "stdout",
          "text": [
            "Conn: 0 1\n",
            "[0, 0, -0.013024364598095417]\n",
            "[1, 0, -0.024337774142622948]\n",
            "[2, 0, -0.014761806465685368]\n",
            "[3, 0, 0.014248533174395561]\n"
          ]
        }
      ]
    },
    {
      "cell_type": "code",
      "source": [
        "for entry in connectivity_dict1[180630:180640]:\n",
        "    print(entry)"
      ],
      "metadata": {
        "colab": {
          "base_uri": "https://localhost:8080/"
        },
        "id": "XJmxv30OQ607",
        "outputId": "9fe1b3bf-d5c4-49ed-ec6d-138129893971"
      },
      "execution_count": null,
      "outputs": [
        {
          "output_type": "stream",
          "name": "stdout",
          "text": [
            "[779, 255, -0.01971917226910591]\n",
            "[780, 255, -0.03221283480525017]\n",
            "[781, 255, -0.011382175609469414]\n",
            "[782, 255, -0.033392395824193954]\n",
            "[783, 255, 0.004407619126141071]\n",
            "Threshold: 1.00\n",
            "Reset: 0.00\n",
            "Beta: 0.95\n",
            "Conn: 2 3\n",
            "[0, 0, 0.020758025348186493]\n"
          ]
        }
      ]
    },
    {
      "cell_type": "code",
      "source": [
        "with open('mnist_784_256_256_10_s10_dict.txt', 'w') as file:\n",
        "    file.write(str(connectivity_dict1))"
      ],
      "metadata": {
        "id": "rBC4XU4mU-vR"
      },
      "execution_count": null,
      "outputs": []
    }
  ]
}