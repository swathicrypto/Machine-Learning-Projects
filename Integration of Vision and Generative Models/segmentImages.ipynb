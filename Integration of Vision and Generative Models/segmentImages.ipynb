{
  "nbformat": 4,
  "nbformat_minor": 0,
  "metadata": {
    "colab": {
      "provenance": []
    },
    "kernelspec": {
      "name": "python3",
      "display_name": "Python 3"
    },
    "language_info": {
      "name": "python"
    }
  },
  "cells": [
    {
      "cell_type": "code",
      "execution_count": null,
      "metadata": {
        "id": "T3N0EanC69s6"
      },
      "outputs": [],
      "source": [
        "#defines a function segmentImages that takes a list of filenames of jpeg files, and segments\n",
        "#to produce two masks of the same size for each of them, one mask for birds, one mask for squirrels."
      ]
    },
    {
      "cell_type": "code",
      "source": [
        "pip install pillow"
      ],
      "metadata": {
        "colab": {
          "base_uri": "https://localhost:8080/"
        },
        "id": "PKRXQOla_-HG",
        "outputId": "1b1bd98b-7282-445f-ad19-f51ec449bff6"
      },
      "execution_count": null,
      "outputs": [
        {
          "output_type": "stream",
          "name": "stdout",
          "text": [
            "Looking in indexes: https://pypi.org/simple, https://us-python.pkg.dev/colab-wheels/public/simple/\n",
            "Requirement already satisfied: pillow in /usr/local/lib/python3.10/dist-packages (8.4.0)\n"
          ]
        }
      ]
    },
    {
      "cell_type": "code",
      "source": [
        "  import tensorflow as tf\n",
        "  import tensorflow_hub as tfhub\n",
        "  import numpy as np\n",
        "  from PIL import Image\n",
        "  import cv2"
      ],
      "metadata": {
        "id": "U-giw9cmcYqU"
      },
      "execution_count": null,
      "outputs": []
    },
    {
      "cell_type": "code",
      "source": [
        "from google.colab import drive\n",
        "\n",
        "#for authorisation\n",
        "drive.mount('/content/drive')\n",
        "\n",
        "#Drive files in \"/content/drive/My Drive\".\n",
        "!ls \"/content/drive/My Drive\""
      ],
      "metadata": {
        "colab": {
          "base_uri": "https://localhost:8080/"
        },
        "id": "-jnPK5s5BtBM",
        "outputId": "ec11189c-3d6d-43fd-cf02-5a467fe07af5"
      },
      "execution_count": null,
      "outputs": [
        {
          "output_type": "stream",
          "name": "stdout",
          "text": [
            "Mounted at /content/drive\n",
            " bird_birdfeeder_random\n",
            " BirdfeederModel\n",
            "'Copy of 4131.jpg'\n",
            "'Copy of hw3_dataset.tfrecord'\n",
            "'Essay Drafts'\n",
            " hw3_dataset.tfrecord\n",
            "'joinedForSquirrels MLHW3'\n",
            "'MLHW 3'\n",
            " MLHW3.3\n",
            "'ML Lab 1'\n",
            "'ML Lab 2'\n",
            "'ML Lab 3'\n",
            "'Physics Project'\n",
            "'Physics Scripts'\n",
            " Pics\n",
            "'pictures of squirrels at birdfeeders - Google Searc'\n",
            " segmentImages\n",
            " squirrel_birdfeeder_random\n",
            " squirrel.jpg\n",
            " squirrelsGone\n",
            " yolov3.cfg\n",
            " yolov3.weights\n"
          ]
        }
      ]
    },
    {
      "cell_type": "code",
      "source": [
        "def segmentImages_Bird(fileList):\n",
        "\n",
        "  masks=[]\n",
        "\n",
        "  model_coco = tfhub.load('https://tfhub.dev/google/HRNet/coco-hrnetv2-w48/1')\n",
        "\n",
        "  for bird in fileList:\n",
        "    image_path = bird\n",
        "#    image_path = '/content/drive/My Drive/squirrel_birdfeeder_random/' + bird\n",
        "\n",
        "    inBirdIm=tf.io.decode_jpeg(tf.io.read_file(image_path),channels=3)\n",
        "\n",
        "    resp_bird=model_coco.predict([tf.cast(inBirdIm,tf.float32)/255.])\n",
        "    myBirdIm=resp_bird.numpy()\n",
        "\n",
        "    test=myBirdIm[:,:,:,17].max()\n",
        "\n",
        "    if test>.9:\n",
        "\n",
        "      maskIm_bird=np.ones_like(inBirdIm)\n",
        "      mask_bird=tf.squeeze(resp_bird)[:,:,17]>.4\n",
        "\n",
        "      if len(inBirdIm[mask_bird])>0:\n",
        "        maskIm_bird=inBirdIm[mask_bird].numpy().max()*maskIm_bird\n",
        "\n",
        "      maskIm_bird[mask_bird]=inBirdIm[mask_bird]\n",
        "\n",
        "      mask_image = Image.fromarray(maskIm_bird)\n",
        "\n",
        "      masks.append(mask_image)\n",
        "\n",
        "  return masks"
      ],
      "metadata": {
        "id": "Ypr1Q1pj7UPh"
      },
      "execution_count": null,
      "outputs": []
    },
    {
      "cell_type": "code",
      "source": [
        "path='/content/drive/My Drive/bird_birdfeeder_random/'\n",
        "BirdMasks=segmentImages_Bird(path)"
      ],
      "metadata": {
        "id": "Dv2fDo9uApR1"
      },
      "execution_count": null,
      "outputs": []
    },
    {
      "cell_type": "code",
      "source": [
        "#Now for squirrels:\n",
        "\n",
        "def segmentImages_Squirrel(fileList):\n",
        "\n",
        "  import tensorflow as tf\n",
        "  import tensorflow_hub as tfhub\n",
        "  import numpy as np\n",
        "  from PIL import Image\n",
        "  import cv2\n",
        "\n",
        "  masks=[]\n",
        "\n",
        "  model_coco = tfhub.load('https://tfhub.dev/google/HRNet/coco-hrnetv2-w48/1')\n",
        "\n",
        "  #It is specified in the original problem to create masks of a standard size, but that was when both masks were used for the same image.\n",
        "  #I had resized the masks to all be the same size across different pictures, but remembering what successful outputs from class,\n",
        "  #I don't think I'm supposed to be doing that. So, I won't.\n",
        "\n",
        "  for sqrl in fileList:\n",
        "\n",
        "    image_path=sqrl\n",
        "\n",
        "#    image_path = '/content/drive/My Drive/squirrel_birdfeeder_random/' + sqrl\n",
        "\n",
        "    inSquirrelIm=tf.io.decode_jpeg(tf.io.read_file(image_path),channels=3)\n",
        "\n",
        "    resp_squirrel=model_coco.predict([tf.cast(inSquirrelIm,tf.float32)/255.])\n",
        "    mySquirrelIm=resp_squirrel.numpy()\n",
        "\n",
        "    test=mySquirrelIm[:,:,:,18].max()\n",
        "\n",
        "    if test>.7:\n",
        "\n",
        "      maskIm_squirrel=np.ones_like(inSquirrelIm)\n",
        "      mask_squirrel=tf.squeeze(resp_squirrel)[:,:,18]>.4\n",
        "\n",
        "      if len(inSquirrelIm[mask_squirrel])>0:\n",
        "        maskIm_squirrel=inSquirrelIm[mask_squirrel].numpy().max()*maskIm_squirrel\n",
        "\n",
        "      maskIm_squirrel[mask_squirrel]=inSquirrelIm[mask_squirrel]\n",
        "\n",
        "      mask_image = Image.fromarray(maskIm_squirrel)\n",
        "\n",
        "      masks.append(mask_image)\n",
        "\n",
        "  return masks"
      ],
      "metadata": {
        "id": "QY2XhNTH5dkQ"
      },
      "execution_count": null,
      "outputs": []
    },
    {
      "cell_type": "code",
      "source": [
        "path='/content/drive/My Drive/squirrel_birdfeeder_random/'\n",
        "SquirrelMasks=segmentImages_Squirrel(path)"
      ],
      "metadata": {
        "id": "PjheFTl4CZYu"
      },
      "execution_count": null,
      "outputs": []
    }
  ]
}