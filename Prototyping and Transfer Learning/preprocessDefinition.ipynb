{
  "nbformat": 4,
  "nbformat_minor": 0,
  "metadata": {
    "colab": {
      "provenance": []
    },
    "kernelspec": {
      "name": "python3",
      "display_name": "Python 3"
    },
    "language_info": {
      "name": "python"
    }
  },
  "cells": [
    {
      "cell_type": "code",
      "execution_count": null,
      "metadata": {
        "id": "i17tlZjRsuzz"
      },
      "outputs": [],
      "source": [
        "#Defining the preprocessing layer.\n",
        "\n",
        "def preproc(image,label):\n",
        "  inp=tf.keras.applications.xception.preprocess_input(image)\n",
        "  return inp,label\n",
        "\n",
        "def preprocessWithAspectRatio(image,label):\n",
        "resized_image=tf.image.resize_with_pad(image,299,299)\n",
        "final_image=keras.applications.xception.preprocess_input(resized_image)\n",
        "return final_image, label"
      ]
    }
  ]
}